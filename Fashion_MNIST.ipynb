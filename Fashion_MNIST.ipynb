{
  "nbformat": 4,
  "nbformat_minor": 0,
  "metadata": {
    "colab": {
      "provenance": [],
      "authorship_tag": "ABX9TyOalzCPAZ2eh6GGIQjI7hon",
      "include_colab_link": true
    },
    "kernelspec": {
      "name": "python3",
      "display_name": "Python 3"
    },
    "language_info": {
      "name": "python"
    }
  },
  "cells": [
    {
      "cell_type": "markdown",
      "metadata": {
        "id": "view-in-github",
        "colab_type": "text"
      },
      "source": [
        "<a href=\"https://colab.research.google.com/github/MuqadirHussain/project/blob/master/Fashion_MNIST.ipynb\" target=\"_parent\"><img src=\"https://colab.research.google.com/assets/colab-badge.svg\" alt=\"Open In Colab\"/></a>"
      ]
    },
    {
      "cell_type": "code",
      "execution_count": 1,
      "metadata": {
        "id": "BXct0Gx5CgdE"
      },
      "outputs": [],
      "source": [
        "#import tensorflow\n",
        "import tensorflow as tf"
      ]
    },
    {
      "cell_type": "code",
      "source": [
        "import numpy as np\n",
        "import matplotlib.pyplot as plt"
      ],
      "metadata": {
        "id": "riWydyGOLm0w"
      },
      "execution_count": 12,
      "outputs": []
    },
    {
      "cell_type": "code",
      "source": [
        "#Loading dataset\n",
        "fashion_mnist=tf.keras.datasets.fashion_mnist\n"
      ],
      "metadata": {
        "id": "61USAEb0CojB"
      },
      "execution_count": 9,
      "outputs": []
    },
    {
      "cell_type": "code",
      "source": [
        "(train_images,train_labels),(test_images,test_labels)=fashion_mnist.load_data()"
      ],
      "metadata": {
        "id": "oN55uXd6GKvF"
      },
      "execution_count": 4,
      "outputs": []
    },
    {
      "cell_type": "markdown",
      "source": [
        "# Model design\n"
      ],
      "metadata": {
        "id": "UWnLQse9KYPZ"
      }
    },
    {
      "cell_type": "code",
      "source": [
        "index=7000\n",
        "np.set_printoptions(linewidth=320)\n",
        "print(f\"Label: {train_labels[index] }\")\n",
        "print(f\"\\n\\n Pixel array: \\n\\n{train_images[index]} \\n\\n\")\n"
      ],
      "metadata": {
        "colab": {
          "base_uri": "https://localhost:8080/"
        },
        "id": "8NNj25f0LHJR",
        "outputId": "150fcb53-9c5f-4762-e36f-909a8cc43624"
      },
      "execution_count": 16,
      "outputs": [
        {
          "output_type": "stream",
          "name": "stdout",
          "text": [
            "Label: 9\n",
            "\n",
            "\n",
            " Pixel array: \n",
            "\n",
            "[[  0   0   0   0   0   0   0   0   0   0   0   0   0   0   0   0   0   0   0   0   0   0   0   0   0   0   0   0]\n",
            " [  0   0   0   0   0   0   0   0   0   0   0   0   0   0   0   0   0   0   0   0   0   0   0   0   0   0   0   0]\n",
            " [  0   0   0   0   0   0   0   0   0   0   0   0   0   0   0   0   0   0   0   0   0   0   0   0   0   0   0   0]\n",
            " [  0   0   0   0   0   0   0   0   0   0   0   0   0   0   0   0   0   0   0   0   0   0   0   0   0   0   0   0]\n",
            " [  0   0   0   0   0   0   0   0   0   0   0   0   0   0   0   0   0   0   0   0   0   0   0   0   0   0   0   0]\n",
            " [  0   0   0   0   0   0   0   0   0   0   0   0   0   0   0   0  50 193 184 147 114  92  52  31   0   0   0   0]\n",
            " [  0   0   0   0   0   0   0   0   0   0   0   0   0   3   0  38 255 236 228 255 255 255 255 255 225 239 122   0]\n",
            " [  0   0   0   0   0   0   0   0   0   0   0   0   0  12   0 105 242 216 222 222 222 225 235 235 236 249 212   0]\n",
            " [  0   0   0   0   0   0   0   0   0   0   0   0   0   0   0 139 232 219 232 232 233 236 238 237 235 236 178 106]\n",
            " [  0   0   0   0   0   0   0   0   0   0   0   0   5   0  69 255 220 227 235 234 234 238 237 240 233 245  66 141]\n",
            " [  0   0   0   0   0   0   0   0   0   0   0   1   0   0 216 230 215 237 236 236 235 235 238 241 244 227  91 115]\n",
            " [  0   0   0   0   0   0   0   0   2   1   0   4   0 145 226 222 231 234 237 236 236 236 238 235 238 255  58   0]\n",
            " [  0   0   0   0   0   0   0   0   0   5   6   0  30 255 222 222 234 234 235 236 237 237 238 234 242 255   0   0]\n",
            " [  0   0   0   0   0   0   0   0   0   6   0   0 219 230 220 233 233 233 237 236 236 236 236 241 234 242  34   0]\n",
            " [  0   0   0   0   0   0   0   0   1   0   0 189 236 217 229 230 234 238 237 236 235 237 233 230 228 253 100   0]\n",
            " [  0   0   0   2   3   0   1   2   0   0 130 235 227 221 231 236 236 238 237 236 235 234 235 238 231 246 187   0]\n",
            " [  0   4   6   0   0   0   0   0   0 192 248 224 222 228 233 234 232 234 235 236 238 238 235 234 230 241 222   0]\n",
            " [  0   0   0   0   0   0   0  49 160 255 218 224 220 225 230 230 231 234 237 237 238 238 232 231 232 235 249   0]\n",
            " [  0  74 176 200 242 217 227 255 235 222 223 226 229 227 230 229 231 236 237 236 235 235 227 229 229 234 239   0]\n",
            " [ 20 221 221 208 218 223 222 222 215 226 228 227 231 228 231 231 234 234 228 231 233 235 238 246 232 250 204   0]\n",
            " [ 83 234 224 218 215 221 221 227 225 228 233 227 227 238 228 230 232 232 255 255 246 248 239 239 216 203 147   0]\n",
            " [  0 101 181 224 236 232 227 227 223 221 222 225 225 229 235 246 242 255 207 189 170 155 149 140 128 138 108   0]\n",
            " [  0   0   0  53 153 221 254 255 253 233 241 252 251 255 241 165  65   3   0 113 201 162 170 162 156 195 100   0]\n",
            " [  2   0   0   0   0   0  39 100 147 173 186 170 144  77   0   0   0   0   0 103 189 164 168 166 157 151  32   0]\n",
            " [  0   0   0   0   0   0   0   0   0   0   0   0   0   0   0   0   0   0   0   0   0   0   0   0   0   0   0   0]\n",
            " [  0   0   0   0   0   0   0   0   0   0   0   0   0   0   0   0   0   0   0   0   0   0   0   0   0   0   0   0]\n",
            " [  0   0   0   0   0   0   0   0   0   0   0   0   0   0   0   0   0   0   0   0   0   0   0   0   0   0   0   0]\n",
            " [  0   0   0   0   0   0   0   0   0   0   0   0   0   0   0   0   0   0   0   0   0   0   0   0   0   0   0   0]] \n",
            "\n",
            "\n"
          ]
        }
      ]
    },
    {
      "cell_type": "code",
      "source": [
        "plt.imshow(train_images[index])\n",
        "plt.colorbar()\n",
        "plt.show()"
      ],
      "metadata": {
        "colab": {
          "base_uri": "https://localhost:8080/",
          "height": 430
        },
        "id": "aRTCopcDM7ze",
        "outputId": "23288a2f-4d09-468a-ec06-582f6bd6b741"
      },
      "execution_count": 17,
      "outputs": [
        {
          "output_type": "display_data",
          "data": {
            "text/plain": [
              "<Figure size 640x480 with 2 Axes>"
            ],
            "image/png": "[encoded data removed]"
          },
          "metadata": {}
        }
      ]
    },
    {
      "cell_type": "code",
      "source": [
        "train_images=train_images / 255.0\n",
        "test_images= test_images / 255.0"
      ],
      "metadata": {
        "id": "5Y2EBLrPNztk"
      },
      "execution_count": 18,
      "outputs": []
    },
    {
      "cell_type": "code",
      "source": [
        "model=tf.keras.Sequential([\n",
        "    tf.keras.Input(shape=(28,28)),\n",
        "    tf.keras.layers.Flatten(),\n",
        "    tf.keras.layers.Dense(128,activation=tf.nn.relu),\n",
        "    tf.keras.layers.Dense(10,activation=tf.nn.softmax)\n",
        "])"
      ],
      "metadata": {
        "id": "Kx7Qv1OkGTFg"
      },
      "execution_count": 19,
      "outputs": []
    },
    {
      "cell_type": "code",
      "source": [
        "#call back  class\n",
        "class myCallback(tf.keras.callbacks.Callback):\n",
        "  def on_epoch_end(self,epoch,logs=None):\n",
        "    if logs[\"loss\"]<0.2:\n",
        "      print(\"\\nLoss is lower than 0.2 so cancelling training!\")\n",
        "      self.model.stop_training = True"
      ],
      "metadata": {
        "id": "RjJszNHTiate"
      },
      "execution_count": 33,
      "outputs": []
    },
    {
      "cell_type": "code",
      "source": [
        "model.compile(\n",
        "    optimizer=tf.optimizers.Adam(),\n",
        "    loss= tf.keras.losses.SparseCategoricalCrossentropy(),\n",
        "    metrics=[\"accuracy\"]\n",
        ")\n",
        "model.fit(train_images,train_labels,epochs=20,callbacks=[myCallback()])"
      ],
      "metadata": {
        "colab": {
          "base_uri": "https://localhost:8080/"
        },
        "id": "fGfn5_whKJ2E",
        "outputId": "5e22b964-d0f1-4548-c15a-202a55bec5a4"
      },
      "execution_count": 32,
      "outputs": [
        {
          "output_type": "stream",
          "name": "stdout",
          "text": [
            "Epoch 1/20\n",
            "\u001b[1m1875/1875\u001b[0m \u001b[32m━━━━━━━━━━━━━━━━━━━━\u001b[0m\u001b[37m\u001b[0m \u001b[1m9s\u001b[0m 4ms/step - accuracy: 0.9142 - loss: 0.2324\n",
            "Epoch 2/20\n",
            "\u001b[1m1875/1875\u001b[0m \u001b[32m━━━━━━━━━━━━━━━━━━━━\u001b[0m\u001b[37m\u001b[0m \u001b[1m11s\u001b[0m 4ms/step - accuracy: 0.9184 - loss: 0.2189\n",
            "Epoch 3/20\n",
            "\u001b[1m1875/1875\u001b[0m \u001b[32m━━━━━━━━━━━━━━━━━━━━\u001b[0m\u001b[37m\u001b[0m \u001b[1m6s\u001b[0m 3ms/step - accuracy: 0.9209 - loss: 0.2121\n",
            "Epoch 4/20\n",
            "\u001b[1m1875/1875\u001b[0m \u001b[32m━━━━━━━━━━━━━━━━━━━━\u001b[0m\u001b[37m\u001b[0m \u001b[1m10s\u001b[0m 3ms/step - accuracy: 0.9234 - loss: 0.2050\n",
            "Epoch 5/20\n",
            "\u001b[1m1875/1875\u001b[0m \u001b[32m━━━━━━━━━━━━━━━━━━━━\u001b[0m\u001b[37m\u001b[0m \u001b[1m12s\u001b[0m 4ms/step - accuracy: 0.9255 - loss: 0.2014\n",
            "Epoch 6/20\n",
            "\u001b[1m1875/1875\u001b[0m \u001b[32m━━━━━━━━━━━━━━━━━━━━\u001b[0m\u001b[37m\u001b[0m \u001b[1m0s\u001b[0m 4ms/step - accuracy: 0.9276 - loss: 0.1911\n",
            "Loss is lower than 0.4 so cancelling training!\n",
            "\u001b[1m1875/1875\u001b[0m \u001b[32m━━━━━━━━━━━━━━━━━━━━\u001b[0m\u001b[37m\u001b[0m \u001b[1m7s\u001b[0m 4ms/step - accuracy: 0.9276 - loss: 0.1911\n"
          ]
        },
        {
          "output_type": "execute_result",
          "data": {
            "text/plain": [
              "<keras.src.callbacks.history.History at 0x7b00c521b9d0>"
            ]
          },
          "metadata": {},
          "execution_count": 32
        }
      ]
    },
    {
      "cell_type": "code",
      "source": [
        "#evaluate model\n",
        "model.evaluate(test_images,test_labels)"
      ],
      "metadata": {
        "colab": {
          "base_uri": "https://localhost:8080/"
        },
        "id": "yEl0O1kzUBbw",
        "outputId": "3aecb084-c8c4-442b-a752-268287336dc2"
      },
      "execution_count": 22,
      "outputs": [
        {
          "output_type": "stream",
          "name": "stdout",
          "text": [
            "\u001b[1m313/313\u001b[0m \u001b[32m━━━━━━━━━━━━━━━━━━━━\u001b[0m\u001b[37m\u001b[0m \u001b[1m1s\u001b[0m 3ms/step - accuracy: 0.8742 - loss: 0.3622\n"
          ]
        },
        {
          "output_type": "execute_result",
          "data": {
            "text/plain": [
              "[0.3680148422718048, 0.870199978351593]"
            ]
          },
          "metadata": {},
          "execution_count": 22
        }
      ]
    },
    {
      "cell_type": "code",
      "source": [
        "#predict model\n",
        "classification = model.predict(test_images)\n",
        "print(classification[0])\n"
      ],
      "metadata": {
        "colab": {
          "base_uri": "https://localhost:8080/"
        },
        "id": "Azvp9O-zUdM_",
        "outputId": "7c8ce18d-aaf9-46c1-ded1-6ff35161e923"
      },
      "execution_count": 24,
      "outputs": [
        {
          "output_type": "stream",
          "name": "stdout",
          "text": [
            "\u001b[1m313/313\u001b[0m \u001b[32m━━━━━━━━━━━━━━━━━━━━\u001b[0m\u001b[37m\u001b[0m \u001b[1m1s\u001b[0m 2ms/step\n",
            "[6.2013372e-05 5.2567380e-08 9.1583024e-06 4.0246098e-07 2.1760779e-06 1.1958117e-03 1.6314518e-05 5.3361282e-02 1.1205492e-03 9.4423217e-01]\n"
          ]
        }
      ]
    },
    {
      "cell_type": "code",
      "source": [
        "print(test_labels[0])"
      ],
      "metadata": {
        "colab": {
          "base_uri": "https://localhost:8080/"
        },
        "id": "aHQgI6PzVwBc",
        "outputId": "81790c3b-82e9-46ca-f920-ae8f157499e7"
      },
      "execution_count": 25,
      "outputs": [
        {
          "output_type": "stream",
          "name": "stdout",
          "text": [
            "9\n"
          ]
        }
      ]
    },
    {
      "cell_type": "code",
      "source": [
        "predicted_class = tf.argmax(classification[100]).numpy()  # .numpy() converts to a Python integer\n",
        "\n",
        "# Print the predicted class\n",
        "print(\"Predicted class:\", predicted_class)"
      ],
      "metadata": {
        "colab": {
          "base_uri": "https://localhost:8080/"
        },
        "id": "_zVFwfW5WLST",
        "outputId": "b9789dcc-7f84-47b8-e508-3e3c0114a530"
      },
      "execution_count": 27,
      "outputs": [
        {
          "output_type": "stream",
          "name": "stdout",
          "text": [
            "Predicted class: 3\n"
          ]
        }
      ]
    },
    {
      "cell_type": "code",
      "source": [
        "plt.imshow(train_images[100])\n",
        "plt.show()"
      ],
      "metadata": {
        "colab": {
          "base_uri": "https://localhost:8080/",
          "height": 430
        },
        "id": "qKBC81SfdVah",
        "outputId": "ac1604b0-3c45-44df-eba7-be6785cfb737"
      },
      "execution_count": 28,
      "outputs": [
        {
          "output_type": "display_data",
          "data": {
            "text/plain": [
              "<Figure size 640x480 with 1 Axes>"
            ],
            "image/png": "[encoded data removed]"
          },
          "metadata": {}
        }
      ]
    },
    {
      "cell_type": "code",
      "source": [
        "5*5*64\n"
      ],
      "metadata": {
        "colab": {
          "base_uri": "https://localhost:8080/"
        },
        "id": "GNJhWWRadodJ",
        "outputId": "a9d669db-8521-4160-9c63-16c7252c7ea5"
      },
      "execution_count": 1,
      "outputs": [
        {
          "output_type": "execute_result",
          "data": {
            "text/plain": [
              "1600"
            ]
          },
          "metadata": {},
          "execution_count": 1
        }
      ]
    },
    {
      "cell_type": "code",
      "source": [],
      "metadata": {
        "id": "ZZVujNMcAfO_"
      },
      "execution_count": null,
      "outputs": []
    }
  ]
}